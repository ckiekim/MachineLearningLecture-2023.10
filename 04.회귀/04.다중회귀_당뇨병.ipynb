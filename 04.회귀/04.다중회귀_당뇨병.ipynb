{
 "cells": [
  {
   "cell_type": "markdown",
   "metadata": {},
   "source": [
    "## 다중회귀 - 당뇨병 사례"
   ]
  },
  {
   "cell_type": "code",
   "execution_count": 1,
   "metadata": {},
   "outputs": [],
   "source": [
    "import pandas as pd\n",
    "from sklearn.datasets import load_diabetes\n",
    "diab = load_diabetes()"
   ]
  },
  {
   "cell_type": "code",
   "execution_count": 7,
   "metadata": {},
   "outputs": [],
   "source": [
    "from sklearn.model_selection import train_test_split\n",
    "from sklearn.metrics import r2_score, mean_squared_error\n",
    "from sklearn.linear_model import LinearRegression\n",
    "from sklearn.svm import SVR\n",
    "from sklearn.ensemble import RandomForestRegressor\n",
    "from lightgbm import LGBMRegressor\n",
    "from sklearn.linear_model import Lasso, Ridge"
   ]
  },
  {
   "cell_type": "markdown",
   "metadata": {},
   "source": [
    "- dataset 분리"
   ]
  },
  {
   "cell_type": "code",
   "execution_count": 3,
   "metadata": {},
   "outputs": [],
   "source": [
    "X_train, X_test, y_train, y_test = train_test_split(\n",
    "    diab.data, diab.target, test_size=0.2, random_state=2023\n",
    ")"
   ]
  },
  {
   "cell_type": "markdown",
   "metadata": {},
   "source": [
    "- Linear Regression"
   ]
  },
  {
   "cell_type": "code",
   "execution_count": 4,
   "metadata": {},
   "outputs": [],
   "source": [
    "lr = LinearRegression()\n",
    "lr.fit(X_train, y_train)\n",
    "y_hat_lr = lr.predict(X_test)\n",
    "r2_lr = r2_score(y_test, y_hat_lr)\n",
    "mse_lr = mean_squared_error(y_test, y_hat_lr)"
   ]
  },
  {
   "cell_type": "markdown",
   "metadata": {},
   "source": [
    "- Support Vector Regressor"
   ]
  },
  {
   "cell_type": "code",
   "execution_count": 5,
   "metadata": {},
   "outputs": [],
   "source": [
    "svr = SVR()\n",
    "svr.fit(X_train, y_train)\n",
    "y_hat_svr = svr.predict(X_test)\n",
    "r2_svr = r2_score(y_test, y_hat_svr)\n",
    "mse_svr = mean_squared_error(y_test, y_hat_svr)"
   ]
  },
  {
   "cell_type": "markdown",
   "metadata": {},
   "source": [
    "- Random Forest Regressor"
   ]
  },
  {
   "cell_type": "code",
   "execution_count": 8,
   "metadata": {},
   "outputs": [],
   "source": [
    "rfr = RandomForestRegressor(random_state=2023)\n",
    "rfr.fit(X_train, y_train)\n",
    "y_hat_rfr = rfr.predict(X_test)\n",
    "r2_rfr = r2_score(y_test, y_hat_rfr)\n",
    "mse_rfr = mean_squared_error(y_test, y_hat_rfr)"
   ]
  },
  {
   "cell_type": "markdown",
   "metadata": {},
   "source": [
    "- LightGBM Regressor"
   ]
  },
  {
   "cell_type": "code",
   "execution_count": 9,
   "metadata": {},
   "outputs": [],
   "source": [
    "lgbr = LGBMRegressor(verbose=-1)\n",
    "lgbr.fit(X_train, y_train)\n",
    "y_hat_lgbr = lgbr.predict(X_test)\n",
    "r2_lgbr = r2_score(y_test, y_hat_lgbr)\n",
    "mse_lgbr = mean_squared_error(y_test, y_hat_lgbr)"
   ]
  },
  {
   "cell_type": "markdown",
   "metadata": {},
   "source": [
    "- 모델 비교"
   ]
  },
  {
   "cell_type": "code",
   "execution_count": 10,
   "metadata": {},
   "outputs": [
    {
     "data": {
      "text/html": [
       "<div>\n",
       "<style scoped>\n",
       "    .dataframe tbody tr th:only-of-type {\n",
       "        vertical-align: middle;\n",
       "    }\n",
       "\n",
       "    .dataframe tbody tr th {\n",
       "        vertical-align: top;\n",
       "    }\n",
       "\n",
       "    .dataframe thead th {\n",
       "        text-align: right;\n",
       "    }\n",
       "</style>\n",
       "<table border=\"1\" class=\"dataframe\">\n",
       "  <thead>\n",
       "    <tr style=\"text-align: right;\">\n",
       "      <th></th>\n",
       "      <th>LR</th>\n",
       "      <th>SVR</th>\n",
       "      <th>RFR</th>\n",
       "      <th>LGBR</th>\n",
       "    </tr>\n",
       "  </thead>\n",
       "  <tbody>\n",
       "    <tr>\n",
       "      <th>R2 score</th>\n",
       "      <td>0.501135</td>\n",
       "      <td>0.170325</td>\n",
       "      <td>0.405444</td>\n",
       "      <td>0.346808</td>\n",
       "    </tr>\n",
       "    <tr>\n",
       "      <th>MSE</th>\n",
       "      <td>3490.250913</td>\n",
       "      <td>5804.724664</td>\n",
       "      <td>4159.742055</td>\n",
       "      <td>4569.985042</td>\n",
       "    </tr>\n",
       "  </tbody>\n",
       "</table>\n",
       "</div>"
      ],
      "text/plain": [
       "                   LR          SVR          RFR         LGBR\n",
       "R2 score     0.501135     0.170325     0.405444     0.346808\n",
       "MSE       3490.250913  5804.724664  4159.742055  4569.985042"
      ]
     },
     "execution_count": 10,
     "metadata": {},
     "output_type": "execute_result"
    }
   ],
   "source": [
    "pf = pd.DataFrame({\n",
    "    'LR':[r2_lr,mse_lr], 'SVR':[r2_svr,mse_svr], 'RFR':[r2_rfr,mse_rfr], 'LGBR':[r2_lgbr,mse_lgbr]\n",
    "})\n",
    "pf.index = ['R2 score', 'MSE']\n",
    "pf"
   ]
  },
  {
   "cell_type": "code",
   "execution_count": 11,
   "metadata": {},
   "outputs": [
    {
     "data": {
      "text/html": [
       "<div>\n",
       "<style scoped>\n",
       "    .dataframe tbody tr th:only-of-type {\n",
       "        vertical-align: middle;\n",
       "    }\n",
       "\n",
       "    .dataframe tbody tr th {\n",
       "        vertical-align: top;\n",
       "    }\n",
       "\n",
       "    .dataframe thead th {\n",
       "        text-align: right;\n",
       "    }\n",
       "</style>\n",
       "<table border=\"1\" class=\"dataframe\">\n",
       "  <thead>\n",
       "    <tr style=\"text-align: right;\">\n",
       "      <th></th>\n",
       "      <th>y</th>\n",
       "      <th>LR</th>\n",
       "      <th>SVR</th>\n",
       "      <th>RFR</th>\n",
       "      <th>LGBR</th>\n",
       "    </tr>\n",
       "  </thead>\n",
       "  <tbody>\n",
       "    <tr>\n",
       "      <th>0</th>\n",
       "      <td>265.0</td>\n",
       "      <td>164.553734</td>\n",
       "      <td>143.763042</td>\n",
       "      <td>193.64</td>\n",
       "      <td>205.767454</td>\n",
       "    </tr>\n",
       "    <tr>\n",
       "      <th>1</th>\n",
       "      <td>261.0</td>\n",
       "      <td>230.858516</td>\n",
       "      <td>155.672919</td>\n",
       "      <td>263.64</td>\n",
       "      <td>273.751148</td>\n",
       "    </tr>\n",
       "    <tr>\n",
       "      <th>2</th>\n",
       "      <td>160.0</td>\n",
       "      <td>113.389079</td>\n",
       "      <td>127.947072</td>\n",
       "      <td>81.45</td>\n",
       "      <td>46.181044</td>\n",
       "    </tr>\n",
       "    <tr>\n",
       "      <th>3</th>\n",
       "      <td>249.0</td>\n",
       "      <td>204.741168</td>\n",
       "      <td>154.991682</td>\n",
       "      <td>151.02</td>\n",
       "      <td>177.173406</td>\n",
       "    </tr>\n",
       "    <tr>\n",
       "      <th>4</th>\n",
       "      <td>102.0</td>\n",
       "      <td>105.520336</td>\n",
       "      <td>130.356541</td>\n",
       "      <td>97.71</td>\n",
       "      <td>58.710724</td>\n",
       "    </tr>\n",
       "    <tr>\n",
       "      <th>5</th>\n",
       "      <td>200.0</td>\n",
       "      <td>181.943438</td>\n",
       "      <td>144.978071</td>\n",
       "      <td>186.34</td>\n",
       "      <td>145.990366</td>\n",
       "    </tr>\n",
       "    <tr>\n",
       "      <th>6</th>\n",
       "      <td>42.0</td>\n",
       "      <td>82.008070</td>\n",
       "      <td>122.085720</td>\n",
       "      <td>91.85</td>\n",
       "      <td>121.436647</td>\n",
       "    </tr>\n",
       "    <tr>\n",
       "      <th>7</th>\n",
       "      <td>55.0</td>\n",
       "      <td>80.442006</td>\n",
       "      <td>132.165408</td>\n",
       "      <td>127.36</td>\n",
       "      <td>110.201718</td>\n",
       "    </tr>\n",
       "    <tr>\n",
       "      <th>8</th>\n",
       "      <td>178.0</td>\n",
       "      <td>131.113347</td>\n",
       "      <td>132.977523</td>\n",
       "      <td>161.08</td>\n",
       "      <td>149.377221</td>\n",
       "    </tr>\n",
       "    <tr>\n",
       "      <th>9</th>\n",
       "      <td>317.0</td>\n",
       "      <td>229.231799</td>\n",
       "      <td>150.773680</td>\n",
       "      <td>193.56</td>\n",
       "      <td>177.968251</td>\n",
       "    </tr>\n",
       "  </tbody>\n",
       "</table>\n",
       "</div>"
      ],
      "text/plain": [
       "       y          LR         SVR     RFR        LGBR\n",
       "0  265.0  164.553734  143.763042  193.64  205.767454\n",
       "1  261.0  230.858516  155.672919  263.64  273.751148\n",
       "2  160.0  113.389079  127.947072   81.45   46.181044\n",
       "3  249.0  204.741168  154.991682  151.02  177.173406\n",
       "4  102.0  105.520336  130.356541   97.71   58.710724\n",
       "5  200.0  181.943438  144.978071  186.34  145.990366\n",
       "6   42.0   82.008070  122.085720   91.85  121.436647\n",
       "7   55.0   80.442006  132.165408  127.36  110.201718\n",
       "8  178.0  131.113347  132.977523  161.08  149.377221\n",
       "9  317.0  229.231799  150.773680  193.56  177.968251"
      ]
     },
     "execution_count": 11,
     "metadata": {},
     "output_type": "execute_result"
    }
   ],
   "source": [
    "rf = pd.DataFrame({\n",
    "    'y':y_test, 'LR':y_hat_lr, 'SVR':y_hat_svr, 'RFR':y_hat_rfr, 'LGBR':y_hat_lgbr\n",
    "})\n",
    "rf.head(10)"
   ]
  },
  {
   "cell_type": "markdown",
   "metadata": {},
   "source": [
    "#### 규제 선형회귀\n",
    "- Lasso: L1 규제"
   ]
  },
  {
   "cell_type": "code",
   "execution_count": 12,
   "metadata": {},
   "outputs": [
    {
     "data": {
      "text/plain": [
       "{'alpha': 1.0,\n",
       " 'copy_X': True,\n",
       " 'fit_intercept': True,\n",
       " 'max_iter': 1000,\n",
       " 'positive': False,\n",
       " 'precompute': False,\n",
       " 'random_state': 2023,\n",
       " 'selection': 'cyclic',\n",
       " 'tol': 0.0001,\n",
       " 'warm_start': False}"
      ]
     },
     "execution_count": 12,
     "metadata": {},
     "output_type": "execute_result"
    }
   ],
   "source": [
    "lasso = Lasso(random_state=2023)\n",
    "lasso.get_params()"
   ]
  },
  {
   "cell_type": "code",
   "execution_count": 13,
   "metadata": {},
   "outputs": [],
   "source": [
    "lasso.fit(X_train, y_train)\n",
    "y_hat_lasso = lasso.predict(X_test)\n",
    "r2_lasso = r2_score(y_test, y_hat_lasso)\n",
    "mse_lasso = mean_squared_error(y_test, y_hat_lasso)"
   ]
  },
  {
   "cell_type": "markdown",
   "metadata": {},
   "source": [
    "- Ridge: L2 규제"
   ]
  },
  {
   "cell_type": "code",
   "execution_count": 14,
   "metadata": {},
   "outputs": [
    {
     "data": {
      "text/plain": [
       "{'alpha': 1.0,\n",
       " 'copy_X': True,\n",
       " 'fit_intercept': True,\n",
       " 'max_iter': None,\n",
       " 'positive': False,\n",
       " 'random_state': 2023,\n",
       " 'solver': 'auto',\n",
       " 'tol': 0.0001}"
      ]
     },
     "execution_count": 14,
     "metadata": {},
     "output_type": "execute_result"
    }
   ],
   "source": [
    "ridge = Ridge(random_state=2023)\n",
    "ridge.get_params()"
   ]
  },
  {
   "cell_type": "code",
   "execution_count": 15,
   "metadata": {},
   "outputs": [],
   "source": [
    "ridge.fit(X_train, y_train)\n",
    "y_hat_ridge = ridge.predict(X_test)\n",
    "r2_ridge = r2_score(y_test, y_hat_ridge)\n",
    "mse_ridge = mean_squared_error(y_test, y_hat_ridge)"
   ]
  },
  {
   "cell_type": "markdown",
   "metadata": {},
   "source": [
    "- 종합 비교"
   ]
  },
  {
   "cell_type": "code",
   "execution_count": 16,
   "metadata": {},
   "outputs": [
    {
     "data": {
      "text/html": [
       "<div>\n",
       "<style scoped>\n",
       "    .dataframe tbody tr th:only-of-type {\n",
       "        vertical-align: middle;\n",
       "    }\n",
       "\n",
       "    .dataframe tbody tr th {\n",
       "        vertical-align: top;\n",
       "    }\n",
       "\n",
       "    .dataframe thead th {\n",
       "        text-align: right;\n",
       "    }\n",
       "</style>\n",
       "<table border=\"1\" class=\"dataframe\">\n",
       "  <thead>\n",
       "    <tr style=\"text-align: right;\">\n",
       "      <th></th>\n",
       "      <th>LR</th>\n",
       "      <th>SVR</th>\n",
       "      <th>RFR</th>\n",
       "      <th>LGBR</th>\n",
       "      <th>Lasso</th>\n",
       "      <th>Ridge</th>\n",
       "    </tr>\n",
       "  </thead>\n",
       "  <tbody>\n",
       "    <tr>\n",
       "      <th>R2 score</th>\n",
       "      <td>0.501135</td>\n",
       "      <td>0.170325</td>\n",
       "      <td>0.405444</td>\n",
       "      <td>0.346808</td>\n",
       "      <td>0.313200</td>\n",
       "      <td>0.428734</td>\n",
       "    </tr>\n",
       "    <tr>\n",
       "      <th>MSE</th>\n",
       "      <td>3490.250913</td>\n",
       "      <td>5804.724664</td>\n",
       "      <td>4159.742055</td>\n",
       "      <td>4569.985042</td>\n",
       "      <td>4805.117215</td>\n",
       "      <td>3996.798175</td>\n",
       "    </tr>\n",
       "  </tbody>\n",
       "</table>\n",
       "</div>"
      ],
      "text/plain": [
       "                   LR          SVR          RFR         LGBR        Lasso  \\\n",
       "R2 score     0.501135     0.170325     0.405444     0.346808     0.313200   \n",
       "MSE       3490.250913  5804.724664  4159.742055  4569.985042  4805.117215   \n",
       "\n",
       "                Ridge  \n",
       "R2 score     0.428734  \n",
       "MSE       3996.798175  "
      ]
     },
     "execution_count": 16,
     "metadata": {},
     "output_type": "execute_result"
    }
   ],
   "source": [
    "pf['Lasso'] = [r2_lasso, mse_lasso]\n",
    "pf['Ridge'] = [r2_ridge, mse_ridge]\n",
    "pf"
   ]
  },
  {
   "cell_type": "code",
   "execution_count": 17,
   "metadata": {},
   "outputs": [
    {
     "data": {
      "text/html": [
       "<div>\n",
       "<style scoped>\n",
       "    .dataframe tbody tr th:only-of-type {\n",
       "        vertical-align: middle;\n",
       "    }\n",
       "\n",
       "    .dataframe tbody tr th {\n",
       "        vertical-align: top;\n",
       "    }\n",
       "\n",
       "    .dataframe thead th {\n",
       "        text-align: right;\n",
       "    }\n",
       "</style>\n",
       "<table border=\"1\" class=\"dataframe\">\n",
       "  <thead>\n",
       "    <tr style=\"text-align: right;\">\n",
       "      <th></th>\n",
       "      <th>y</th>\n",
       "      <th>LR</th>\n",
       "      <th>SVR</th>\n",
       "      <th>RFR</th>\n",
       "      <th>LGBR</th>\n",
       "      <th>Lasso</th>\n",
       "      <th>Ridge</th>\n",
       "    </tr>\n",
       "  </thead>\n",
       "  <tbody>\n",
       "    <tr>\n",
       "      <th>0</th>\n",
       "      <td>265.0</td>\n",
       "      <td>164.553734</td>\n",
       "      <td>143.763042</td>\n",
       "      <td>193.64</td>\n",
       "      <td>205.767454</td>\n",
       "      <td>163.808030</td>\n",
       "      <td>160.002767</td>\n",
       "    </tr>\n",
       "    <tr>\n",
       "      <th>1</th>\n",
       "      <td>261.0</td>\n",
       "      <td>230.858516</td>\n",
       "      <td>155.672919</td>\n",
       "      <td>263.64</td>\n",
       "      <td>273.751148</td>\n",
       "      <td>185.863613</td>\n",
       "      <td>199.355943</td>\n",
       "    </tr>\n",
       "    <tr>\n",
       "      <th>2</th>\n",
       "      <td>160.0</td>\n",
       "      <td>113.389079</td>\n",
       "      <td>127.947072</td>\n",
       "      <td>81.45</td>\n",
       "      <td>46.181044</td>\n",
       "      <td>137.521623</td>\n",
       "      <td>133.198975</td>\n",
       "    </tr>\n",
       "    <tr>\n",
       "      <th>3</th>\n",
       "      <td>249.0</td>\n",
       "      <td>204.741168</td>\n",
       "      <td>154.991682</td>\n",
       "      <td>151.02</td>\n",
       "      <td>177.173406</td>\n",
       "      <td>172.979468</td>\n",
       "      <td>192.171298</td>\n",
       "    </tr>\n",
       "    <tr>\n",
       "      <th>4</th>\n",
       "      <td>102.0</td>\n",
       "      <td>105.520336</td>\n",
       "      <td>130.356541</td>\n",
       "      <td>97.71</td>\n",
       "      <td>58.710724</td>\n",
       "      <td>126.882774</td>\n",
       "      <td>130.853284</td>\n",
       "    </tr>\n",
       "    <tr>\n",
       "      <th>5</th>\n",
       "      <td>200.0</td>\n",
       "      <td>181.943438</td>\n",
       "      <td>144.978071</td>\n",
       "      <td>186.34</td>\n",
       "      <td>145.990366</td>\n",
       "      <td>171.590050</td>\n",
       "      <td>168.120517</td>\n",
       "    </tr>\n",
       "    <tr>\n",
       "      <th>6</th>\n",
       "      <td>42.0</td>\n",
       "      <td>82.008070</td>\n",
       "      <td>122.085720</td>\n",
       "      <td>91.85</td>\n",
       "      <td>121.436647</td>\n",
       "      <td>111.078479</td>\n",
       "      <td>107.399013</td>\n",
       "    </tr>\n",
       "    <tr>\n",
       "      <th>7</th>\n",
       "      <td>55.0</td>\n",
       "      <td>80.442006</td>\n",
       "      <td>132.165408</td>\n",
       "      <td>127.36</td>\n",
       "      <td>110.201718</td>\n",
       "      <td>113.071589</td>\n",
       "      <td>98.703859</td>\n",
       "    </tr>\n",
       "    <tr>\n",
       "      <th>8</th>\n",
       "      <td>178.0</td>\n",
       "      <td>131.113347</td>\n",
       "      <td>132.977523</td>\n",
       "      <td>161.08</td>\n",
       "      <td>149.377221</td>\n",
       "      <td>139.611205</td>\n",
       "      <td>133.656656</td>\n",
       "    </tr>\n",
       "    <tr>\n",
       "      <th>9</th>\n",
       "      <td>317.0</td>\n",
       "      <td>229.231799</td>\n",
       "      <td>150.773680</td>\n",
       "      <td>193.56</td>\n",
       "      <td>177.968251</td>\n",
       "      <td>182.738338</td>\n",
       "      <td>208.104324</td>\n",
       "    </tr>\n",
       "  </tbody>\n",
       "</table>\n",
       "</div>"
      ],
      "text/plain": [
       "       y          LR         SVR     RFR        LGBR       Lasso       Ridge\n",
       "0  265.0  164.553734  143.763042  193.64  205.767454  163.808030  160.002767\n",
       "1  261.0  230.858516  155.672919  263.64  273.751148  185.863613  199.355943\n",
       "2  160.0  113.389079  127.947072   81.45   46.181044  137.521623  133.198975\n",
       "3  249.0  204.741168  154.991682  151.02  177.173406  172.979468  192.171298\n",
       "4  102.0  105.520336  130.356541   97.71   58.710724  126.882774  130.853284\n",
       "5  200.0  181.943438  144.978071  186.34  145.990366  171.590050  168.120517\n",
       "6   42.0   82.008070  122.085720   91.85  121.436647  111.078479  107.399013\n",
       "7   55.0   80.442006  132.165408  127.36  110.201718  113.071589   98.703859\n",
       "8  178.0  131.113347  132.977523  161.08  149.377221  139.611205  133.656656\n",
       "9  317.0  229.231799  150.773680  193.56  177.968251  182.738338  208.104324"
      ]
     },
     "execution_count": 17,
     "metadata": {},
     "output_type": "execute_result"
    }
   ],
   "source": [
    "rf['Lasso'] = y_hat_lasso\n",
    "rf['Ridge'] = y_hat_ridge\n",
    "rf.head(10)"
   ]
  },
  {
   "cell_type": "code",
   "execution_count": null,
   "metadata": {},
   "outputs": [],
   "source": []
  }
 ],
 "metadata": {
  "kernelspec": {
   "display_name": "base",
   "language": "python",
   "name": "python3"
  },
  "language_info": {
   "codemirror_mode": {
    "name": "ipython",
    "version": 3
   },
   "file_extension": ".py",
   "mimetype": "text/x-python",
   "name": "python",
   "nbconvert_exporter": "python",
   "pygments_lexer": "ipython3",
   "version": "3.11.4"
  }
 },
 "nbformat": 4,
 "nbformat_minor": 2
}
